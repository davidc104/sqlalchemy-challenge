{
 "cells": [
  {
   "cell_type": "code",
   "execution_count": 1,
   "metadata": {},
   "outputs": [],
   "source": [
    "%matplotlib inline\n",
    "from matplotlib import style\n",
    "style.use('fivethirtyeight')\n",
    "import matplotlib.pyplot as plt"
   ]
  },
  {
   "cell_type": "code",
   "execution_count": 2,
   "metadata": {},
   "outputs": [],
   "source": [
    "import numpy as np\n",
    "import pandas as pd"
   ]
  },
  {
   "cell_type": "code",
   "execution_count": 3,
   "metadata": {},
   "outputs": [],
   "source": [
    "import datetime as dt"
   ]
  },
  {
   "cell_type": "markdown",
   "metadata": {},
   "source": [
    "# Reflect Tables into SQLAlchemy ORM"
   ]
  },
  {
   "cell_type": "code",
   "execution_count": 4,
   "metadata": {},
   "outputs": [],
   "source": [
    "# Python SQL toolkit and Object Relational Mapper\n",
    "import sqlalchemy\n",
    "from sqlalchemy.ext.automap import automap_base\n",
    "from sqlalchemy.orm import Session\n",
    "from sqlalchemy import create_engine, func, inspect\n",
    "from sqlalchemy import Column, Integer, String, Float"
   ]
  },
  {
   "cell_type": "code",
   "execution_count": 5,
   "metadata": {},
   "outputs": [],
   "source": [
    "# Connect to hawaii.sqlite database using sqlalchemy create_engine\n",
    "engine = create_engine(\"sqlite:///Resources/hawaii.sqlite\")"
   ]
  },
  {
   "cell_type": "code",
   "execution_count": 6,
   "metadata": {},
   "outputs": [],
   "source": [
    "# reflect an existing database into ORM classes\n",
    "Base = automap_base()\n",
    "# reflect the tables\n",
    "Base.prepare(engine, reflect=True)"
   ]
  },
  {
   "cell_type": "code",
   "execution_count": 7,
   "metadata": {},
   "outputs": [
    {
     "data": {
      "text/plain": [
       "['measurement', 'station']"
      ]
     },
     "execution_count": 7,
     "metadata": {},
     "output_type": "execute_result"
    }
   ],
   "source": [
    "# View all of the classes that automap found - table names\n",
    "Base.classes.keys()"
   ]
  },
  {
   "cell_type": "code",
   "execution_count": 8,
   "metadata": {},
   "outputs": [],
   "source": [
    "# Save references to each table\n",
    "Measurement = Base.classes.measurement\n",
    "Station = Base.classes.station"
   ]
  },
  {
   "cell_type": "code",
   "execution_count": 9,
   "metadata": {},
   "outputs": [],
   "source": [
    "# Create our session (link) from Python to the DB\n",
    "session = Session(engine)"
   ]
  },
  {
   "cell_type": "code",
   "execution_count": 10,
   "metadata": {},
   "outputs": [],
   "source": [
    "# Create the inspector and connect it to the engine\n",
    "inspector = inspect(engine)"
   ]
  },
  {
   "cell_type": "code",
   "execution_count": 11,
   "metadata": {},
   "outputs": [
    {
     "data": {
      "text/plain": [
       "['measurement', 'station']"
      ]
     },
     "execution_count": 11,
     "metadata": {},
     "output_type": "execute_result"
    }
   ],
   "source": [
    "# Collect the names of tables within the database\n",
    "inspector.get_table_names()"
   ]
  },
  {
   "cell_type": "code",
   "execution_count": 12,
   "metadata": {},
   "outputs": [
    {
     "name": "stdout",
     "output_type": "stream",
     "text": [
      "id INTEGER\n",
      "station TEXT\n",
      "date TEXT\n",
      "prcp FLOAT\n",
      "tobs FLOAT\n"
     ]
    }
   ],
   "source": [
    "# Using the inspector to print the column names within the 'measurement' table and its types\n",
    "columns = inspector.get_columns('measurement')\n",
    "for column in columns:\n",
    "    print(column[\"name\"], column[\"type\"])"
   ]
  },
  {
   "cell_type": "code",
   "execution_count": 13,
   "metadata": {},
   "outputs": [
    {
     "name": "stdout",
     "output_type": "stream",
     "text": [
      "id INTEGER\n",
      "station TEXT\n",
      "name TEXT\n",
      "latitude FLOAT\n",
      "longitude FLOAT\n",
      "elevation FLOAT\n"
     ]
    }
   ],
   "source": [
    "# Using the inspector to print the column names within the 'station' table and its types\n",
    "columns = inspector.get_columns('station')\n",
    "for column in columns:\n",
    "    print(column[\"name\"], column[\"type\"])"
   ]
  },
  {
   "cell_type": "markdown",
   "metadata": {},
   "source": [
    "# Exploratory Climate Analysis"
   ]
  },
  {
   "cell_type": "code",
   "execution_count": 14,
   "metadata": {},
   "outputs": [],
   "source": [
    "# Design a query to retrieve the last 12 months of precipitation data and plot the results\n",
    "\n",
    "# Calculate the date 1 year ago from the last data point in the database\n",
    "\n",
    "# Perform a query to retrieve the data and precipitation scores\n",
    "\n",
    "# Save the query results as a Pandas DataFrame and set the index to the date column\n",
    "\n",
    "# Sort the dataframe by date\n",
    "\n",
    "# Use Pandas Plotting with Matplotlib to plot the data\n"
   ]
  },
  {
   "cell_type": "code",
   "execution_count": 15,
   "metadata": {},
   "outputs": [
    {
     "name": "stdout",
     "output_type": "stream",
     "text": [
      "The last 12 months are from 2016-08-23 to 2017-08-23\n"
     ]
    }
   ],
   "source": [
    "# Get the latest date\n",
    "MaxDate = engine.execute(\"SELECT MAX(date) FROM Measurement\").fetchall()\n",
    "EndDate = MaxDate[0][0]\n",
    "\n",
    "Year = int(EndDate[0:4])\n",
    "Month = int(EndDate[5:7])\n",
    "Day = int(EndDate[8:])\n",
    "\n",
    "StartDate = dt.date(Year, Month, Day) - dt.timedelta(days=365)\n",
    "print(f\"The last 12 months are from {StartDate} to {EndDate}\")"
   ]
  },
  {
   "cell_type": "code",
   "execution_count": 16,
   "metadata": {},
   "outputs": [
    {
     "data": {
      "text/html": [
       "<div>\n",
       "<style scoped>\n",
       "    .dataframe tbody tr th:only-of-type {\n",
       "        vertical-align: middle;\n",
       "    }\n",
       "\n",
       "    .dataframe tbody tr th {\n",
       "        vertical-align: top;\n",
       "    }\n",
       "\n",
       "    .dataframe thead th {\n",
       "        text-align: right;\n",
       "    }\n",
       "</style>\n",
       "<table border=\"1\" class=\"dataframe\">\n",
       "  <thead>\n",
       "    <tr style=\"text-align: right;\">\n",
       "      <th></th>\n",
       "      <th>Precipitation</th>\n",
       "    </tr>\n",
       "    <tr>\n",
       "      <th>Date</th>\n",
       "      <th></th>\n",
       "    </tr>\n",
       "  </thead>\n",
       "  <tbody>\n",
       "    <tr>\n",
       "      <th>2017-08-23</th>\n",
       "      <td>0.00</td>\n",
       "    </tr>\n",
       "    <tr>\n",
       "      <th>2017-08-23</th>\n",
       "      <td>0.00</td>\n",
       "    </tr>\n",
       "    <tr>\n",
       "      <th>2017-08-23</th>\n",
       "      <td>0.08</td>\n",
       "    </tr>\n",
       "    <tr>\n",
       "      <th>2017-08-23</th>\n",
       "      <td>0.45</td>\n",
       "    </tr>\n",
       "    <tr>\n",
       "      <th>2017-08-22</th>\n",
       "      <td>0.00</td>\n",
       "    </tr>\n",
       "  </tbody>\n",
       "</table>\n",
       "</div>"
      ],
      "text/plain": [
       "            Precipitation\n",
       "Date                     \n",
       "2017-08-23           0.00\n",
       "2017-08-23           0.00\n",
       "2017-08-23           0.08\n",
       "2017-08-23           0.45\n",
       "2017-08-22           0.00"
      ]
     },
     "execution_count": 16,
     "metadata": {},
     "output_type": "execute_result"
    }
   ],
   "source": [
    "# Retrieve the last 12 months of precipitation data\n",
    "prcp_data = session.query(Measurement.date,Measurement.prcp)\\\n",
    "                          .filter(Measurement.date <= EndDate)\\\n",
    "                          .filter(Measurement.date >= StartDate)\\\n",
    "                          .order_by(Measurement.date.desc()).all()\n",
    "#for data in PRCP_data: \n",
    "#     print(data)\n",
    "\n",
    "# Use Pandas to calcualte the summary statistics for the precipitation data\n",
    "prcp_df = pd.DataFrame(prcp_data).rename(columns={\"date\":\"Date\",\"prcp\":\"Precipitation\"})\n",
    "prcp_df.set_index(\"Date\",inplace=True)\n",
    "prcp_df.head()"
   ]
  },
  {
   "cell_type": "code",
   "execution_count": 17,
   "metadata": {},
   "outputs": [
    {
     "data": {
      "image/png": "[encoded data removed]",
      "text/plain": [
       "<Figure size 720x360 with 1 Axes>"
      ]
     },
     "metadata": {
      "needs_background": "light"
     },
     "output_type": "display_data"
    }
   ],
   "source": [
    "# Plot the results using the DataFrame plot method\n",
    "prcp_df.plot(figsize=(10,5),ylim=(0,8),title=f'Precipitation Score from {StartDate} till {EndDate}',\\\n",
    "                  label=\"Precipitation\",rot=45)\n",
    "plt.legend(loc=\"upper left\")\n",
    "plt.xlabel(\"\\nDate\")\n",
    "plt.savefig(\"Precipitation_Analysis.jpg\")\n",
    "plt.show()"
   ]
  },
  {
   "cell_type": "code",
   "execution_count": 18,
   "metadata": {},
   "outputs": [
    {
     "data": {
      "text/html": [
       "<div>\n",
       "<style scoped>\n",
       "    .dataframe tbody tr th:only-of-type {\n",
       "        vertical-align: middle;\n",
       "    }\n",
       "\n",
       "    .dataframe tbody tr th {\n",
       "        vertical-align: top;\n",
       "    }\n",
       "\n",
       "    .dataframe thead th {\n",
       "        text-align: right;\n",
       "    }\n",
       "</style>\n",
       "<table border=\"1\" class=\"dataframe\">\n",
       "  <thead>\n",
       "    <tr style=\"text-align: right;\">\n",
       "      <th></th>\n",
       "      <th>Precipitation</th>\n",
       "    </tr>\n",
       "  </thead>\n",
       "  <tbody>\n",
       "    <tr>\n",
       "      <th>count</th>\n",
       "      <td>2230.000000</td>\n",
       "    </tr>\n",
       "    <tr>\n",
       "      <th>mean</th>\n",
       "      <td>0.160664</td>\n",
       "    </tr>\n",
       "    <tr>\n",
       "      <th>std</th>\n",
       "      <td>0.442067</td>\n",
       "    </tr>\n",
       "    <tr>\n",
       "      <th>min</th>\n",
       "      <td>0.000000</td>\n",
       "    </tr>\n",
       "    <tr>\n",
       "      <th>25%</th>\n",
       "      <td>0.000000</td>\n",
       "    </tr>\n",
       "    <tr>\n",
       "      <th>50%</th>\n",
       "      <td>0.010000</td>\n",
       "    </tr>\n",
       "    <tr>\n",
       "      <th>75%</th>\n",
       "      <td>0.110000</td>\n",
       "    </tr>\n",
       "    <tr>\n",
       "      <th>max</th>\n",
       "      <td>6.700000</td>\n",
       "    </tr>\n",
       "  </tbody>\n",
       "</table>\n",
       "</div>"
      ],
      "text/plain": [
       "       Precipitation\n",
       "count    2230.000000\n",
       "mean        0.160664\n",
       "std         0.442067\n",
       "min         0.000000\n",
       "25%         0.000000\n",
       "50%         0.010000\n",
       "75%         0.110000\n",
       "max         6.700000"
      ]
     },
     "execution_count": 18,
     "metadata": {},
     "output_type": "execute_result"
    }
   ],
   "source": [
    "# Use Pandas to print the summary statistics for the precipitation data\n",
    "prcp_df.describe()"
   ]
  },
  {
   "cell_type": "code",
   "execution_count": 19,
   "metadata": {},
   "outputs": [
    {
     "name": "stdout",
     "output_type": "stream",
     "text": [
      "Total number of stations is: 9\n"
     ]
    }
   ],
   "source": [
    "# Design a query to show how many stations are available in this dataset?\n",
    "Stations = session.query(Station).count()\n",
    "print(f'Total number of stations is: {Stations}')"
   ]
  },
  {
   "cell_type": "code",
   "execution_count": 20,
   "metadata": {},
   "outputs": [
    {
     "name": "stdout",
     "output_type": "stream",
     "text": [
      "Rank\t Station ID\t observation counts\n",
      "1\t USC00519281\t 2772\n",
      "2\t USC00519397\t 2724\n",
      "3\t USC00513117\t 2709\n",
      "4\t USC00519523\t 2669\n",
      "5\t USC00516128\t 2612\n",
      "6\t USC00514830\t 2202\n",
      "7\t USC00511918\t 1979\n",
      "8\t USC00517948\t 1372\n",
      "9\t USC00518838\t 511\n",
      "\n",
      "USC00519281 station has the highest number of observations 2772.\n"
     ]
    }
   ],
   "source": [
    "# What are the most active stations? (i.e. what stations have the most rows)?\n",
    "# List the stations and the counts in descending order.\n",
    "Stations_desc = session.query(Measurement.station,func.count(Measurement.station))\\\n",
    "                                     .group_by(Measurement.station)\\\n",
    "                                     .order_by(func.count(Measurement.station).desc()).all()\n",
    "\n",
    "#for station in Stations_desc: \n",
    "     #print(station)\n",
    "        \n",
    "print(\"Rank\\t Station ID\\t observation counts\")\n",
    "i = 1\n",
    "for active_stations in Stations_desc:\n",
    "    print(\"%d\\t %s\\t %d\" %(i,active_stations[0],active_stations[1]))\n",
    "    \n",
    "    if i==1:\n",
    "        station = active_stations[0]\n",
    "        observation = active_stations[1]\n",
    "    i+=1\n",
    "\n",
    "print()\n",
    "print(f\"{station} station has the highest number of observations {observation}.\")    "
   ]
  },
  {
   "cell_type": "code",
   "execution_count": 21,
   "metadata": {},
   "outputs": [
    {
     "data": {
      "text/plain": [
       "2772"
      ]
     },
     "execution_count": 21,
     "metadata": {},
     "output_type": "execute_result"
    }
   ],
   "source": [
    "Stations_desc = session.query(Measurement.station,func.count(Measurement.station))\\\n",
    "                                     .group_by(Measurement.station)\\\n",
    "                                     .order_by(func.count(Measurement.station).desc()).first()\n",
    "\n",
    "Stations_desc[1]"
   ]
  },
  {
   "cell_type": "code",
   "execution_count": 22,
   "metadata": {},
   "outputs": [
    {
     "name": "stdout",
     "output_type": "stream",
     "text": [
      "The most active station is USC00519281 with its lowest temperature, highest temperature, and average temperature.\n",
      "\n",
      "Lowest   Highest  Average\n",
      "---------------------------\n",
      "54.0     85.0     71.66\n"
     ]
    }
   ],
   "source": [
    "# Using the station id from the previous query, calculate the lowest temperature recorded, \n",
    "# highest temperature recorded, and average temperature most active station?\n",
    "Station = session.query(Measurement.station,func.count(Measurement.station))\\\n",
    "                                     .group_by(Measurement.station)\\\n",
    "                                     .order_by(func.count(Measurement.station).desc()).first()\n",
    "\n",
    "Stations_temp = session.query(func.min(Measurement.tobs),func.max(Measurement.tobs),func.avg(Measurement.tobs))\\\n",
    "                  .filter(Measurement.station == Station[0]).all()\n",
    "\n",
    "print(f\"The most active station is {Station[0]} with its lowest temperature, highest temperature, and average temperature.\")\n",
    "print()\n",
    "print(\"Lowest   Highest  Average\")\n",
    "\n",
    "for temp in Stations_temp:\n",
    "    print(\"---------------------------\")\n",
    "    print(f\"{round(temp[0],2)}     {round(temp[1],2)}     {round(temp[2],2)}\")"
   ]
  },
  {
   "cell_type": "code",
   "execution_count": 23,
   "metadata": {},
   "outputs": [
    {
     "data": {
      "text/html": [
       "<div>\n",
       "<style scoped>\n",
       "    .dataframe tbody tr th:only-of-type {\n",
       "        vertical-align: middle;\n",
       "    }\n",
       "\n",
       "    .dataframe tbody tr th {\n",
       "        vertical-align: top;\n",
       "    }\n",
       "\n",
       "    .dataframe thead th {\n",
       "        text-align: right;\n",
       "    }\n",
       "</style>\n",
       "<table border=\"1\" class=\"dataframe\">\n",
       "  <thead>\n",
       "    <tr style=\"text-align: right;\">\n",
       "      <th></th>\n",
       "      <th>Temperature</th>\n",
       "    </tr>\n",
       "    <tr>\n",
       "      <th>Date</th>\n",
       "      <th></th>\n",
       "    </tr>\n",
       "  </thead>\n",
       "  <tbody>\n",
       "    <tr>\n",
       "      <th>2017-08-18</th>\n",
       "      <td>79.0</td>\n",
       "    </tr>\n",
       "    <tr>\n",
       "      <th>2017-08-17</th>\n",
       "      <td>76.0</td>\n",
       "    </tr>\n",
       "    <tr>\n",
       "      <th>2017-08-16</th>\n",
       "      <td>76.0</td>\n",
       "    </tr>\n",
       "    <tr>\n",
       "      <th>2017-08-15</th>\n",
       "      <td>77.0</td>\n",
       "    </tr>\n",
       "    <tr>\n",
       "      <th>2017-08-14</th>\n",
       "      <td>77.0</td>\n",
       "    </tr>\n",
       "  </tbody>\n",
       "</table>\n",
       "</div>"
      ],
      "text/plain": [
       "            Temperature\n",
       "Date                   \n",
       "2017-08-18         79.0\n",
       "2017-08-17         76.0\n",
       "2017-08-16         76.0\n",
       "2017-08-15         77.0\n",
       "2017-08-14         77.0"
      ]
     },
     "execution_count": 23,
     "metadata": {},
     "output_type": "execute_result"
    }
   ],
   "source": [
    "# Choose the station with the highest number of temperature observations.\n",
    "# Query the last 12 months of temperature observation data for this station and plot the results as a histogram\n",
    "Station_temp = session.query(Measurement.date,Measurement.tobs)\\\n",
    "             .filter(Measurement.date >= StartDate).filter(Measurement.date<=EndDate)\\\n",
    "             .filter(Measurement.station == Station[0]).order_by(Measurement.date.desc()).all()\n",
    "\n",
    "#for temp in Station_temp:\n",
    "    #print(temp)\n",
    "    \n",
    "# Use Pandas to calcualte the summary statistics for the precipitation data\n",
    "temp_df = pd.DataFrame(Station_temp).rename(columns={\"date\":\"Date\",\"tobs\":\"Temperature\"})\n",
    "temp_df.set_index(\"Date\",inplace=True)\n",
    "temp_df.head()    "
   ]
  },
  {
   "cell_type": "code",
   "execution_count": 24,
   "metadata": {},
   "outputs": [
    {
     "data": {
      "image/png": "[encoded data removed]",
      "text/plain": [
       "<Figure size 432x288 with 1 Axes>"
      ]
     },
     "metadata": {
      "needs_background": "light"
     },
     "output_type": "display_data"
    }
   ],
   "source": [
    "# Plot the results using the DataFrame plot method\n",
    "temp_df.plot.hist(by=\"Temperature\",bins=12,label=\"tobs\",title=f'Temperature Frequency for {Station[0]} from {StartDate} till {EndDate}')\n",
    "plt.ylim=(0,80)\n",
    "plt.ylabel(\"Frequency of Temperature\")\n",
    "plt.xlabel(\"Temperature (F)\")\n",
    "plt.legend=()\n",
    "plt.savefig(\"Temperature_Analysis.jpg\")\n",
    "plt.show()"
   ]
  },
  {
   "cell_type": "code",
   "execution_count": 25,
   "metadata": {},
   "outputs": [],
   "source": [
    "# This function called `calc_temps` will accept start date and end date in the format '%Y-%m-%d' \n",
    "# and return the minimum, average, and maximum temperatures for that range of dates\n",
    "def calc_temps(start_date, end_date):\n",
    "    \"\"\"TMIN, TAVG, and TMAX for a list of dates.\n",
    "    \n",
    "    Args:\n",
    "        start_date (string): A date string in the format %Y-%m-%d\n",
    "        end_date (string): A date string in the format %Y-%m-%d\n",
    "        \n",
    "    Returns:\n",
    "        TMIN, TAVE, and TMAX\n",
    "    \"\"\"\n",
    "    \n",
    "    return session.query(func.min(Measurement.tobs), func.avg(Measurement.tobs), func.max(Measurement.tobs)).\\\n",
    "        filter(Measurement.date >= start_date).filter(Measurement.date <= end_date).all()"
   ]
  },
  {
   "cell_type": "code",
   "execution_count": 26,
   "metadata": {},
   "outputs": [
    {
     "name": "stdout",
     "output_type": "stream",
     "text": [
      "Enter the trip start date in 'YYYY-MM-DD' format: 2017-01-01\n",
      "Enter the trip end date in 'YYYY-MM-DD' format: 2017-01-10\n"
     ]
    }
   ],
   "source": [
    "start_date = input(\"Enter the trip start date in 'YYYY-MM-DD' format: \")\n",
    "end_date = input(\"Enter the trip end date in 'YYYY-MM-DD' format: \")"
   ]
  },
  {
   "cell_type": "code",
   "execution_count": 27,
   "metadata": {},
   "outputs": [
    {
     "name": "stdout",
     "output_type": "stream",
     "text": [
      "The lowest, highest and average temperatures for the trip between 2017-01-01 and 2017-01-10.\n",
      "\n",
      "Lowest   Highest  Average\n",
      "---------------------------\n",
      "60.0     68.03     77.0\n"
     ]
    }
   ],
   "source": [
    "#print(calc_temps(start_date, end_date))\n",
    "t = calc_temps(start_date, end_date)\n",
    "\n",
    "print(f\"The lowest, highest and average temperatures for the trip between {start_date} and {end_date}.\")\n",
    "print()\n",
    "print(\"Lowest   Highest  Average\")\n",
    "\n",
    "for temp in Stations_temp:\n",
    "    print(\"---------------------------\")\n",
    "    print(f\"{round(t[0][0],2)}     {round(t[0][1],2)}     {round(t[0][2],2)}\")"
   ]
  },
  {
   "cell_type": "code",
   "execution_count": 28,
   "metadata": {},
   "outputs": [
    {
     "name": "stdout",
     "output_type": "stream",
     "text": [
      "The lowest, highest and average temperatures for the previous trip between 2016-01-02 and 2016-01-11.\n",
      "\n",
      "Lowest   Highest  Average\n",
      "---------------------------\n",
      "62.0     70.41     78.0\n"
     ]
    }
   ],
   "source": [
    "# Use your previous function `calc_temps` to calculate the tmin, tavg, and tmax \n",
    "# for your trip using the previous year's data for those same dates.\n",
    "prev_start_date = start_date\n",
    "Trip_end_date = end_date\n",
    "\n",
    "Year = int(start_date[0:4])\n",
    "Month = int(start_date[5:7])\n",
    "Day = int(start_date[8:])\n",
    "prev_start_date = dt.date(Year, Month, Day) - dt.timedelta(days=365)\n",
    "\n",
    "Year = int(end_date[0:4])\n",
    "Month = int(end_date[5:7])\n",
    "Day = int(end_date[8:])\n",
    "prev_end_date = dt.date(Year, Month, Day) - dt.timedelta(days=365)\n",
    "\n",
    "t = calc_temps(prev_start_date, prev_end_date)\n",
    "\n",
    "print(f\"The lowest, highest and average temperatures for the previous trip between {prev_start_date} and {prev_end_date}.\")\n",
    "print()\n",
    "print(\"Lowest   Highest  Average\")\n",
    "\n",
    "for temp in Stations_temp:\n",
    "    print(\"---------------------------\")\n",
    "    print(f\"{round(t[0][0],2)}     {round(t[0][1],2)}     {round(t[0][2],2)}\")"
   ]
  },
  {
   "cell_type": "code",
   "execution_count": 29,
   "metadata": {},
   "outputs": [
    {
     "data": {
      "image/png": "[encoded data removed]",
      "text/plain": [
       "<Figure size 144x720 with 1 Axes>"
      ]
     },
     "metadata": {
      "needs_background": "light"
     },
     "output_type": "display_data"
    }
   ],
   "source": [
    "# Plot the results from your previous query as a bar chart. \n",
    "# Use \"Trip Avg Temp\" as your Title\n",
    "# Use the average temperature for the y value\n",
    "# Use the peak-to-peak (tmax-tmin) value as the y error bar (yerr)\n",
    "\n",
    "tmin = t[0][0]\n",
    "tavg = t[0][1]\n",
    "tmax = t[0][2]\n",
    "yerr = tmax-tmin\n",
    "\n",
    "plt.figure(figsize=(2,10))\n",
    "plt.bar(0,tavg,yerr=yerr,align=\"center\",width=1,color=\"blue\",alpha=0.5)\n",
    "plt.ylim=(0,100)\n",
    "plt.ylabel(\"average temperature(F)\")\n",
    "plt.title(\"Trip Avg Temp\")\n",
    "plt.savefig(\"Trip_Avg_Temp.jpg\")\n",
    "plt.show()"
   ]
  },
  {
   "cell_type": "code",
   "execution_count": 30,
   "metadata": {},
   "outputs": [
    {
     "name": "stdout",
     "output_type": "stream",
     "text": [
      "Station \t Total Rainfall\n",
      "--------------------------------\n",
      "USC00516128 \t 2.94\n",
      "USC00519281 \t 0.97\n",
      "USC00513117 \t 0.56\n",
      "USC00519397 \t 0.23\n",
      "USC00514830 \t 0.22\n",
      "USC00519523 \t 0.13\n",
      "USC00517948 \t 0.0\n"
     ]
    }
   ],
   "source": [
    "# Calculate the total amount of rainfall per weather station for your trip dates using the previous year's matching dates.\n",
    "\n",
    "rainfall = session.query(Measurement.station, func.sum(Measurement.prcp))\\\n",
    "                       .filter(Measurement.date>=prev_start_date).filter(Measurement.date<=prev_end_date)\\\n",
    "                       .group_by(Measurement.station).order_by(func.sum(Measurement.prcp).desc()).all()  \n",
    "\n",
    "print(\"Station \\t Total Rainfall\")\n",
    "print(\"--------------------------------\")\n",
    "\n",
    "for (s, r) in rainfall: \n",
    "    print(s,\"\\t\",round(r,2))"
   ]
  },
  {
   "cell_type": "code",
   "execution_count": 31,
   "metadata": {},
   "outputs": [],
   "source": [
    "# Save references to each table\n",
    "Measurement = Base.classes.measurement\n",
    "Station = Base.classes.station"
   ]
  },
  {
   "cell_type": "code",
   "execution_count": 32,
   "metadata": {},
   "outputs": [
    {
     "name": "stdout",
     "output_type": "stream",
     "text": [
      "Station \t Name \t\t\t\t\t  Latitude \t Longitude \t Elevation \t Rainfall\n",
      "------------------------------------------------------------------------------------------------------------------\n",
      "USC00516128 \t MANOA LYON ARBO 785.2, HI US             21.3331 \t -157.8 \t 152.4 \t\t 2.94\n",
      "USC00519281 \t WAIHEE 837.5, HI US                      21.45167 \t -157.85 \t 32.9 \t\t 0.97\n",
      "USC00513117 \t KANEOHE 838.1, HI US                     21.4234 \t -157.8 \t 14.6 \t\t 0.56\n",
      "USC00519397 \t WAIKIKI 717.2, HI US                     21.2716 \t -157.82 \t 3.0 \t\t 0.23\n",
      "USC00514830 \t KUALOA RANCH HEADQUARTERS 886.9, HI US   21.5213 \t -157.84 \t 7.0 \t\t 0.22\n",
      "USC00519523 \t WAIMANALO EXPERIMENTAL FARM, HI US       21.33556 \t -157.71 \t 19.5 \t\t 0.13\n",
      "USC00517948 \t PEARL CITY, HI US                        21.3934 \t -157.98 \t 11.9 \t\t 0.0\n"
     ]
    }
   ],
   "source": [
    "# Sort this in descending order by precipitation amount and list the station, name, latitude, longitude, and elevation\n",
    "sql_string = [Measurement.station,Station.name,Station.latitude,Station.longitude,Station.elevation,func.sum(Measurement.prcp)]\n",
    "\n",
    "results = session.query(*sql_string).filter(Measurement.station==Station.station)\\\n",
    "                       .filter(Measurement.date>=prev_start_date).filter(Measurement.date<=prev_end_date)\\\n",
    "                       .group_by(Measurement.station).order_by(func.sum(Measurement.prcp).desc()).all()\n",
    "\n",
    "print(\"Station \\t Name \\t\\t\\t\\t\\t  Latitude \\t Longitude \\t Elevation \\t Rainfall\")\n",
    "print(\"------------------------------------------------------------------------------------------------------------------\")\n",
    "\n",
    "for (s,n,la,lo,el,r) in results: \n",
    "    print(s,\"\\t\",\"{:<40}\".format(n),la,\"\\t\",round(lo,2),\"\\t\",el,\"\\t\\t\",round(r,2))"
   ]
  },
  {
   "cell_type": "markdown",
   "metadata": {},
   "source": [
    "## Optional Challenge Assignment"
   ]
  },
  {
   "cell_type": "code",
   "execution_count": 33,
   "metadata": {},
   "outputs": [],
   "source": [
    "# Create a query that will calculate the daily normals \n",
    "# (i.e. the averages for tmin, tmax, and tavg for all historic data matching a specific month and day)\n",
    "\n",
    "def daily_normals(date):\n",
    "    \"\"\"Daily Normals.\n",
    "    \n",
    "    Args:\n",
    "        date (str): A date string in the format '%m-%d'\n",
    "        \n",
    "    Returns:\n",
    "        A list of tuples containing the daily normals, tmin, tavg, and tmax\n",
    "    \n",
    "    \"\"\"\n",
    "    \n",
    "    sel = [func.min(Measurement.tobs), func.avg(Measurement.tobs), func.max(Measurement.tobs)]\n",
    "    return session.query(*sel).filter(func.strftime(\"%m-%d\", Measurement.date) == date).all()"
   ]
  },
  {
   "cell_type": "code",
   "execution_count": 34,
   "metadata": {},
   "outputs": [
    {
     "name": "stdout",
     "output_type": "stream",
     "text": [
      "Enter the trip start date in 'YYYY-MM-DD' format: 2018-01-01\n",
      "Enter the trip end date in 'YYYY-MM-DD' format: 2018-01-09\n"
     ]
    }
   ],
   "source": [
    "# calculate the daily normals for your trip\n",
    "# push each tuple of calculations into a list called `normals`\n",
    "\n",
    "# Set the start and end date of the trip\n",
    "\n",
    "# Use the start and end date to create a range of dates\n",
    "\n",
    "\n",
    "# Loop through the list of %m-%d strings and calculate the normals for each date\n",
    "\n",
    "start_date = input(\"Enter the trip start date in 'YYYY-MM-DD' format: \")\n",
    "end_date = input(\"Enter the trip end date in 'YYYY-MM-DD' format: \")"
   ]
  },
  {
   "cell_type": "code",
   "execution_count": 35,
   "metadata": {},
   "outputs": [
    {
     "name": "stdout",
     "output_type": "stream",
     "text": [
      "(62.0, 69.15384615384616, 77.0)\n"
     ]
    }
   ],
   "source": [
    "# Stip off the year and save a list of %m-%d strings\n",
    "start_m_d = start_date[5:]\n",
    "end_m_d = end_date[5:]\n",
    "\n",
    "results = daily_normals(start_m_d)\n",
    "\n",
    "for result in results:\n",
    "    print(result)"
   ]
  }
 ],
 "metadata": {
  "kernel_info": {
   "name": "python3"
  },
  "kernelspec": {
   "display_name": "Python 3",
   "language": "python",
   "name": "python3"
  },
  "language_info": {
   "codemirror_mode": {
    "name": "ipython",
    "version": 3
   },
   "file_extension": ".py",
   "mimetype": "text/x-python",
   "name": "python",
   "nbconvert_exporter": "python",
   "pygments_lexer": "ipython3",
   "version": "3.7.3"
  },
  "nteract": {
   "version": "0.12.3"
  },
  "varInspector": {
   "cols": {
    "lenName": 16,
    "lenType": 16,
    "lenVar": 40
   },
   "kernels_config": {
    "python": {
     "delete_cmd_postfix": "",
     "delete_cmd_prefix": "del ",
     "library": "var_list.py",
     "varRefreshCmd": "print(var_dic_list())"
    },
    "r": {
     "delete_cmd_postfix": ") ",
     "delete_cmd_prefix": "rm(",
     "library": "var_list.r",
     "varRefreshCmd": "cat(var_dic_list()) "
    }
   },
   "types_to_exclude": [
    "module",
    "function",
    "builtin_function_or_method",
    "instance",
    "_Feature"
   ],
   "window_display": false
  }
 },
 "nbformat": 4,
 "nbformat_minor": 2
}
